{
  "nbformat": 4,
  "nbformat_minor": 0,
  "metadata": {
    "colab": {
      "provenance": [],
      "authorship_tag": "ABX9TyPbw8toEYDwYqR2c7cN3/nR",
      "include_colab_link": true
    },
    "kernelspec": {
      "name": "python3",
      "display_name": "Python 3"
    },
    "language_info": {
      "name": "python"
    }
  },
  "cells": [
    {
      "cell_type": "markdown",
      "metadata": {
        "id": "view-in-github",
        "colab_type": "text"
      },
      "source": [
        "<a href=\"https://colab.research.google.com/github/Sanarazaaa/Personal-Projects-On-going-/blob/main/Computational_Analysis_of_Fibrinogen_%26_Its_Role_in_Clot_Contraction.ipynb\" target=\"_parent\"><img src=\"https://colab.research.google.com/assets/colab-badge.svg\" alt=\"Open In Colab\"/></a>"
      ]
    },
    {
      "cell_type": "code",
      "execution_count": 1,
      "metadata": {
        "colab": {
          "base_uri": "https://localhost:8080/"
        },
        "id": "HDKQiiYE1s4a",
        "outputId": "257cba91-94d7-4682-b66b-a35d914bccef"
      },
      "outputs": [
        {
          "output_type": "stream",
          "name": "stdout",
          "text": [
            "Collecting biopython\n",
            "  Downloading biopython-1.85-cp311-cp311-manylinux_2_17_x86_64.manylinux2014_x86_64.whl.metadata (13 kB)\n",
            "Requirement already satisfied: numpy in /usr/local/lib/python3.11/dist-packages (from biopython) (1.26.4)\n",
            "Downloading biopython-1.85-cp311-cp311-manylinux_2_17_x86_64.manylinux2014_x86_64.whl (3.3 MB)\n",
            "\u001b[2K   \u001b[90m━━━━━━━━━━━━━━━━━━━━━━━━━━━━━━━━━━━━━━━━\u001b[0m \u001b[32m3.3/3.3 MB\u001b[0m \u001b[31m32.9 MB/s\u001b[0m eta \u001b[36m0:00:00\u001b[0m\n",
            "\u001b[?25hInstalling collected packages: biopython\n",
            "Successfully installed biopython-1.85\n"
          ]
        }
      ],
      "source": [
        "!pip install biopython"
      ]
    },
    {
      "cell_type": "code",
      "source": [
        "from Bio import Entrez, SeqIO\n",
        "import time  # delay to prevent request limits\n",
        "\n",
        "# email for NCBI access\n",
        "Entrez.email = \"sana.raza.eng@example.com\"\n",
        "\n",
        "# Dictionary of clotting factor NCBI protein IDs (Update these if needed)\n",
        "protein_ids = {\n",
        "    \"human_fibrinogen\": \"NP_000499.1\",\n",
        "    \"mouse_fibrinogen\": \"NP_034361.2\",\n",
        "    \"rat_fibrinogen\": \"NP_001012187.1\"\n",
        "}\n",
        "\n",
        "# Fetch sequences from NCBI\n",
        "sequences = {}\n",
        "for species, protein_id in protein_ids.items():\n",
        "    try:\n",
        "        print(f\"Fetching {species} sequence...\")\n",
        "        handle = Entrez.efetch(db=\"protein\", id=protein_id, rettype=\"fasta\", retmode=\"text\")\n",
        "        seq_record = SeqIO.read(handle, \"fasta\")\n",
        "        sequences[species] = str(seq_record.seq)\n",
        "        time.sleep(1)  # Pause 1 second to avoid NCBI request limits\n",
        "    except Exception as e:\n",
        "        print(f\"Error fetching {species}: {e}\")\n",
        "\n",
        "# Print the first 50 amino acids of each retrieved sequence\n",
        "for species, seq in sequences.items():\n",
        "    print(f\"{species}: {seq[:50]}...\")\n"
      ],
      "metadata": {
        "colab": {
          "base_uri": "https://localhost:8080/"
        },
        "id": "3dxVwHxm10XZ",
        "outputId": "ecc94dc0-baa7-4fde-b2bc-93a92c572a6e"
      },
      "execution_count": 2,
      "outputs": [
        {
          "output_type": "stream",
          "name": "stdout",
          "text": [
            "Fetching human_fibrinogen sequence...\n",
            "Fetching mouse_fibrinogen sequence...\n",
            "Error fetching mouse_fibrinogen: HTTP Error 400: Bad Request\n",
            "Fetching rat_fibrinogen sequence...\n",
            "human_fibrinogen: MFSMRIVCLVLSVVGTAWTADSGEGDFLAEGGGVRGPRVVERHQSACKDS...\n",
            "rat_fibrinogen: MATSGVEKSSKKKTEKKLAAREEAKLLAGFMGVMNNMRKQRTLCDVILMV...\n"
          ]
        }
      ]
    },
    {
      "cell_type": "markdown",
      "source": [
        "Entrez API\tFetches data from NCBI’s online database.\n",
        "FASTA Format\tStandard text-based format for representing sequences.\n",
        "Protein Accession IDs (NP_000499.1, etc.)\tUnique identifiers used to retrieve protein sequences.\n",
        "SeqIO.read()\tParses a FASTA file into a Biopython sequence object.\n",
        "Error Handling\tPrevents crashes if the request fails.\n",
        "time.sleep(1)\tPrevents NCBI from blocking requests due to excessive querying."
      ],
      "metadata": {
        "id": "lZQ5qEzv4bij"
      }
    },
    {
      "cell_type": "code",
      "source": [
        "from Bio import pairwise2\n",
        "from Bio.pairwise2 import format_alignment\n",
        "\n",
        "# Align human and mouse fibrinogen\n",
        "alignments = pairwise2.align.globalxx(sequences[\"human_fibrinogen\"], sequences[\"rat_fibrinogen\"])\n",
        "\n",
        "# Print best alignment\n",
        "print(format_alignment(*alignments[0]))\n"
      ],
      "metadata": {
        "colab": {
          "base_uri": "https://localhost:8080/"
        },
        "id": "4pE0mVh718aw",
        "outputId": "530350db-6286-4ccc-ca70-b96507965043"
      },
      "execution_count": 4,
      "outputs": [
        {
          "output_type": "stream",
          "name": "stdout",
          "text": [
            "MF--SMRIVCL-VL--SVVG----T----AWTADSG-EGDF---L-AEGG--GV----RGP--R----V---V-ER----HQS----ACKD--SDWP-FCSDEDW-NYKCPSGCRMKGLIDEVNQD-FTNRI-NK-L--KNSLFEYQKNN---KDSHSLTTNIM-E--I---LRGD--FSSANN---RD---NTY-NR-V-SEDLRSRIEVLKRKV-------IEK-VQHIQLLQKNVRAQL---VDMKR-L-E-VDIDIKIR-S-CR-GSC-SRA-LAREV--D---LK---DYEDQQK---QL---EQVIA-K-D--L-LPSRD--RQ--HLPLIKMKPVPDLVPGNFKSQ--LQK-VPPEWK-ALT-DMPQM------RME-LERPGGNEITRGGSTS-YGTGSET-ESPRNPSSAGSWNSGSSGPGSTGNRN-PGSSGTGGT------ATWKPGSSGPGSTGSWNSGSSGTGSTGNQNPGSP-R-PG--STGTW-NPGSSERG--SAGHW-TSESSVSGSTGQWHS-ESGSFRP---DSPGSGNARPNNPDWGTFEEVSGN----V-SPGTR-REYHTEKLVT-SKG--DK-E-LRT-GKEKVTSGSTTTTR-RSCS-KTVTKTV----I---GPDGHKEVTKEVVTSEDG---SDC----PEAM-DLGTL-SGIG-TLDG----F--RHRHPDEAAF--F-DTASTGKTFPGFFSPM-----LGEFVSETESRGSESGI--FTNTKESSSHHPGIAEFPS-RG-------KSS-S-YSKQFTSS----TSYN-RGDSTFESKSYKM-ADEAGSE-ADH-EG---THSTKRGHAK-SRP-VRD---------CD-DVLQT-----H--PSG--TQ--S-GIF----N--IK------LPG---S----SKIFS--VYCDQ---ETSLGGWL--L---IQQ--RMD---GSLN-FNRTWQ--DYKRG-F--GSLNDEGE--GEFWLGNDYLHLLTQRGSVLR--VE-----L-EDWA---------GNE-----AYAEYHFRVGSEAEGYALQVSS-YEGT--AGDALIE--GSVEEGA------EYTSHNNMQFSTFDRDA--DQ-WEENCAEVYGGGWWYNNCQAANLNGIYYPGGSYDP--RNNS--PYEIENGV------VWVSFRGADYSLR---AVRMKIRP----LV-TQ\n",
            "|   |       |   |       |    |  |    |      | |  |  ||    |    |    |   | ||    |      |     |    |       |           |        ||    |  |  | | ||        ||          |  |   |     |  |     |    |   |  | |  |      |           ||  |       |         ||    | | |  |     | |  |   |   || |   |   ||   |  |      |    | |   | |  | |   |  |   |  |        |      ||  |   |      |   |  |       |   |                |       |                 |    ||  |              |  |                               | |   |     |         |     |    |     |    |     |   |          ||      |        | | |   | ||   |   |    |  | |   |      |    || |    |   |      |   |  |          |      | |    |    |     |    | |     |  | |  | ||   | |                    ||         |  |    |          | |      |        |   | |||         |    | |      |    |  |    |   ||   | |   |    |   |           |  |   |     |  ||   ||  | |      |  |       | |   |    |   |  || |    ||    |   |   |    |     | |  |       | |   |  |     |   |   ||          |  |   ||     | | |          |       | |     |||        |   |     ||       | |  |       ||    |    |       |  |      |            |  |       |     |     |      |      | |     |       |           |  | \n",
            "M-ATS------GV-EKS---SKKKTEKKLA--A---RE---EAKLLA--GFMGVMNNMR--KQRTLCDVILMVQERKIPAH--RVVLA---AAS---HF------FN-----------L-------MFT---TN-MLESK-S-FE-----VELKD---------AEPDIIEQL---VEF--A--YTAR-ISVN--SN-NVQS--L------L----DAANQYQIE-PV-------K------KMCVD---FLKEQV--D----ASNC-LG--IS--VLA-E-CLDCPELKSTAD--D---FIHQ-HFTE-V--YKTDEFLQL---DVKR-VTH--L--------L------SQDTL--TV-----RA--ED--Q-VYDAAVR--WL---------------KY------DE-----------------P----NR-QP--------FMVDILA--K------------------------------VRFP-LIS----KN-------FLS----KT----V-----Q---AE-----PLIQD----------NP------E----CLKMVIS-G--MR-YH---L--LS--PED-REEL--AG------G----TRPR---RK---K--HDYRIALFG--G----------S---QPQS-CRYFNP---KD----YS---WT-D-IRCPFEKR-R--D-AA-CVFWD---------------NVVYILG---------G--S--QLF----------P-I-----KR-MDCYNVVK--DSWYSK-----LGPPT---PR-D------S---LA--A---CA--AEGKIYT-S---G---GS--EV--GNSALYLFEC-YD---TRTESWHTKPS-MLTQRCSHG--MVEANGLI-YVCGGSL-GNNVSGRVLS---SCEVY-D-PATET----W-TELCSMI--EPR--KNHG-L-VF-----VKD-K--IFAVG-----G-QNG---LG----------G--L-DNVEYYDIKLNE-W-KMVSPMPWRG--VTVKCA-A-----VGS--------V--IY---VLAG-----FQG-V--G-RLGHILEY----N----T-----ETD-KW------V------------A--N-------S---KVR---AFP------VTSCLICV-V-----D----TCGA-------NEETL-ET-\n",
            "  Score=252\n",
            "\n"
          ]
        }
      ]
    },
    {
      "cell_type": "code",
      "source": [
        "import urllib.request\n",
        "\n",
        "# Download human fibrinogen PDB structure (replace with actual PDB ID)\n",
        "pdb_id = \"3GHG\"\n",
        "url = f\"https://files.rcsb.org/download/{pdb_id}.pdb\"\n",
        "urllib.request.urlretrieve(url, f\"{pdb_id}.pdb\")\n",
        "\n",
        "print(f\"Downloaded PDB structure: {pdb_id}.pdb\")\n"
      ],
      "metadata": {
        "colab": {
          "base_uri": "https://localhost:8080/"
        },
        "id": "nNmTm2SK2HLm",
        "outputId": "50973c12-04b7-4650-8c5c-146a5b48e16d"
      },
      "execution_count": 5,
      "outputs": [
        {
          "output_type": "stream",
          "name": "stdout",
          "text": [
            "Downloaded PDB structure: 3GHG.pdb\n"
          ]
        }
      ]
    },
    {
      "cell_type": "markdown",
      "source": [
        "1️⃣ Import urllib: \tAllows Python to fetch files from the internet.\n",
        "\n",
        "2️⃣ Define PDB ID:\tSpecifies the protein to download (e.g., \"3GHG\" for human fibrinogen).\n",
        "\n",
        "3️⃣ Construct URL:\tGenerates the correct RCSB PDB download link.\n",
        "\n",
        "4️⃣ Download File\tSaves the PDB structure as \"3GHG.pdb\".\n",
        "\n",
        "5️⃣ Print Confirmation:\tConfirms the download was successful."
      ],
      "metadata": {
        "id": "tTbQ8RnQ5S8u"
      }
    },
    {
      "cell_type": "code",
      "source": [
        "!pip install py3Dmol  # Install Py3Dmol for visualization\n",
        "\n",
        "import py3Dmol\n",
        "\n",
        "# Load the downloaded PDB file\n",
        "view = py3Dmol.view(query=\"3GHG\")  # Replace with correct PDB ID\n",
        "view.setStyle({\"cartoon\": {\"color\": \"cyan\"}})\n",
        "view.zoomTo()\n",
        "view.show()\n"
      ],
      "metadata": {
        "colab": {
          "base_uri": "https://localhost:8080/",
          "height": 584
        },
        "id": "1NG9f9Fr2M1O",
        "outputId": "6eace25a-5e17-4966-d60d-ad44a7817807"
      },
      "execution_count": 6,
      "outputs": [
        {
          "output_type": "stream",
          "name": "stdout",
          "text": [
            "Collecting py3Dmol\n",
            "  Downloading py3Dmol-2.4.2-py2.py3-none-any.whl.metadata (1.9 kB)\n",
            "Downloading py3Dmol-2.4.2-py2.py3-none-any.whl (7.0 kB)\n",
            "Installing collected packages: py3Dmol\n",
            "Successfully installed py3Dmol-2.4.2\n"
          ]
        },
        {
          "output_type": "display_data",
          "data": {
            "application/3dmoljs_load.v0": "<div id=\"3dmolviewer_17410026967498825\"  style=\"position: relative; width: 640px; height: 480px;\">\n        <p id=\"3dmolwarning_17410026967498825\" style=\"background-color:#ffcccc;color:black\">3Dmol.js failed to load for some reason.  Please check your browser console for error messages.<br></p>\n        </div>\n<script>\n\nvar loadScriptAsync = function(uri){\n  return new Promise((resolve, reject) => {\n    //this is to ignore the existence of requirejs amd\n    var savedexports, savedmodule;\n    if (typeof exports !== 'undefined') savedexports = exports;\n    else exports = {}\n    if (typeof module !== 'undefined') savedmodule = module;\n    else module = {}\n\n    var tag = document.createElement('script');\n    tag.src = uri;\n    tag.async = true;\n    tag.onload = () => {\n        exports = savedexports;\n        module = savedmodule;\n        resolve();\n    };\n  var firstScriptTag = document.getElementsByTagName('script')[0];\n  firstScriptTag.parentNode.insertBefore(tag, firstScriptTag);\n});\n};\n\nif(typeof $3Dmolpromise === 'undefined') {\n$3Dmolpromise = null;\n  $3Dmolpromise = loadScriptAsync('https://cdnjs.cloudflare.com/ajax/libs/3Dmol/2.4.2/3Dmol-min.js');\n}\n\nvar viewer_17410026967498825 = null;\nvar warn = document.getElementById(\"3dmolwarning_17410026967498825\");\nif(warn) {\n    warn.parentNode.removeChild(warn);\n}\n$3Dmolpromise.then(function() {\nviewer_17410026967498825 = $3Dmol.createViewer(document.getElementById(\"3dmolviewer_17410026967498825\"),{backgroundColor:\"white\"});\n$3Dmol.download(\"3GHG\", viewer_17410026967498825, {}, function() {\nviewer_17410026967498825.zoomTo();\n\tviewer_17410026967498825.setStyle({\"cartoon\": {\"color\": \"cyan\"}});\n\tviewer_17410026967498825.zoomTo();\nviewer_17410026967498825.render();\n})\n});\n</script>",
            "text/html": [
              "<div id=\"3dmolviewer_17410026967498825\"  style=\"position: relative; width: 640px; height: 480px;\">\n",
              "        <p id=\"3dmolwarning_17410026967498825\" style=\"background-color:#ffcccc;color:black\">3Dmol.js failed to load for some reason.  Please check your browser console for error messages.<br></p>\n",
              "        </div>\n",
              "<script>\n",
              "\n",
              "var loadScriptAsync = function(uri){\n",
              "  return new Promise((resolve, reject) => {\n",
              "    //this is to ignore the existence of requirejs amd\n",
              "    var savedexports, savedmodule;\n",
              "    if (typeof exports !== 'undefined') savedexports = exports;\n",
              "    else exports = {}\n",
              "    if (typeof module !== 'undefined') savedmodule = module;\n",
              "    else module = {}\n",
              "\n",
              "    var tag = document.createElement('script');\n",
              "    tag.src = uri;\n",
              "    tag.async = true;\n",
              "    tag.onload = () => {\n",
              "        exports = savedexports;\n",
              "        module = savedmodule;\n",
              "        resolve();\n",
              "    };\n",
              "  var firstScriptTag = document.getElementsByTagName('script')[0];\n",
              "  firstScriptTag.parentNode.insertBefore(tag, firstScriptTag);\n",
              "});\n",
              "};\n",
              "\n",
              "if(typeof $3Dmolpromise === 'undefined') {\n",
              "$3Dmolpromise = null;\n",
              "  $3Dmolpromise = loadScriptAsync('https://cdnjs.cloudflare.com/ajax/libs/3Dmol/2.4.2/3Dmol-min.js');\n",
              "}\n",
              "\n",
              "var viewer_17410026967498825 = null;\n",
              "var warn = document.getElementById(\"3dmolwarning_17410026967498825\");\n",
              "if(warn) {\n",
              "    warn.parentNode.removeChild(warn);\n",
              "}\n",
              "$3Dmolpromise.then(function() {\n",
              "viewer_17410026967498825 = $3Dmol.createViewer(document.getElementById(\"3dmolviewer_17410026967498825\"),{backgroundColor:\"white\"});\n",
              "$3Dmol.download(\"3GHG\", viewer_17410026967498825, {}, function() {\n",
              "viewer_17410026967498825.zoomTo();\n",
              "\tviewer_17410026967498825.setStyle({\"cartoon\": {\"color\": \"cyan\"}});\n",
              "\tviewer_17410026967498825.zoomTo();\n",
              "viewer_17410026967498825.render();\n",
              "})\n",
              "});\n",
              "</script>"
            ]
          },
          "metadata": {}
        }
      ]
    },
    {
      "cell_type": "markdown",
      "source": [
        "1️⃣ Install py3Dmol:\tEnables 3D visualization in Colab.\n",
        "\n",
        "2️⃣ Import py3Dmol:\tLoads the visualization library.\n",
        "\n",
        "3️⃣ Load the PDB Structure:\tFetches the protein’s 3D model from RCSB.\n",
        "\n",
        "4️⃣ Set the Cartoon Style:\tDisplays the protein’s secondary structure.\n",
        "\n",
        "5️⃣ Zoom In:\tAdjusts the view to fit the protein.\n",
        "\n",
        "6️⃣ Show the Viewer\tDisplays the interactive 3D model."
      ],
      "metadata": {
        "id": "MvwxMR-Q5w27"
      }
    },
    {
      "source": [
        "from Bio import motifs\n",
        "from Bio.Seq import Seq\n",
        "\n",
        "# Convert sequences to Biopython format\n",
        "seqs = [Seq(sequences[\"human_fibrinogen\"]), Seq(sequences[\"rat_fibrinogen\"])]\n",
        "\n",
        "# Get the minimum length of the sequences\n",
        "min_len = min(len(seq) for seq in seqs)\n",
        "\n",
        "# Truncate sequences to the minimum length\n",
        "seqs = [seq[:min_len] for seq in seqs]\n",
        "\n",
        "# Create motif from aligned sequences\n",
        "motif = motifs.create(seqs)\n",
        "\n",
        "# Display motif consensus\n",
        "print(\"Consensus Motif:\", motif.consensus)"
      ],
      "cell_type": "code",
      "metadata": {
        "colab": {
          "base_uri": "https://localhost:8080/"
        },
        "id": "_7ZIxx1a2eG-",
        "outputId": "caf66806-8d60-44f4-f045-3edc443263fb"
      },
      "execution_count": 11,
      "outputs": [
        {
          "output_type": "stream",
          "name": "stdout",
          "text": [
            "Consensus Motif: AATAGAACAAAAATGTAAAAAAGAGAAAAAGGGAAGAAAAATACAACAAAAAAACAAAAAAAAAAAGCAAAGATTAAAAAATAAAAAAAAAAAAAAAAAAAAATATTAAAAAAAGAAAAAAAAAATAAAAAACAAAAAAAAAAAACAGAAAAAACAACAAAAATAAAAAAAAATAAAATCAGACAAAAAATAAAAAATATAAAAAAAAAAAAAAAAAAAAAAAAAAAAAAAAAAGAAAAAAAAAATAAAAATAAAAAACAAAAAGGAAATAGGATAAGTGAGGTAAAAAAAAGAAAAGGGGAGATCAAAAGAAGTGGTATCAAGAAGAAACGAAAAGAAGTGGTGAAAAGAAACGATGTAAAGAAAGGAAGAATAAACAAGGTGATAGGAGAGAAAAAGAGCAATATAAAGTAAAAAGAACAGGAAAAAGAAAACGGGAGAAATGAAAATCGATTTATATCTATCTATAAGAAGGAAATAAAATAAGGAACAGAAAAGTAAGAGTAAGAAAAAAAAAAATATAAAGGTAAGAAAGAAGAGAAGTAAAGATAGAATAAAAAAAAAAGTACAACAGATCGAAAATTAT\n"
          ]
        }
      ]
    }
  ]
}